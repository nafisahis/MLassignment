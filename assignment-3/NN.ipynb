{
 "cells": [
  {
   "cell_type": "markdown",
   "metadata": {},
   "source": [
    "## Load data"
   ]
  },
  {
   "cell_type": "code",
   "execution_count": 1,
   "metadata": {
    "collapsed": false
   },
   "outputs": [],
   "source": [
    "import numpy as np\n",
    "import scipy.io.arff as sparff\n",
    "import random\n",
    "import math \n",
    "\n",
    "nEpochs = 200\n",
    "nfolds = 30\n",
    "NNOutput = {}\n",
    "\n",
    "def loadData(filename):\n",
    "    # reading the training data\n",
    "    data, attribute = sparff.loadarff(filename)\n",
    "    \n",
    "    #getting size of attributes and instances\n",
    "    numFeatures = len(attribute.names())-1\n",
    "    numInstances = len(data)\n",
    "    classLabel = attribute[attribute.names()[-1]]\n",
    "    \n",
    "    X, Y = [], []\n",
    "    for i in range(numInstances):\n",
    "        #print data[i][0]\n",
    "        # convert labels to 0-1 encoding\n",
    "        Y.append(classLabel[1].index(data[i][-1]))\n",
    "        \n",
    "        # create feature vector representation for each isntance\n",
    "        featureVector = []\n",
    "        for j in range(numFeatures):\n",
    "            featureVector.append(data[i][j])\n",
    "        X.append(featureVector)\n",
    "\n",
    "    # get the number of possible values of each feature\n",
    "#     numvals = []\n",
    "#     for n in range(len(attribute.names())):\n",
    "#         numvals.append(len(attribute[attribute.names()[n]][1]))\n",
    "    npX = np.array(X)\n",
    "    npY = np.array(Y)\n",
    "    return npX, npY, attribute, numFeatures, numInstances, classLabel"
   ]
  },
  {
   "cell_type": "code",
   "execution_count": 2,
   "metadata": {
    "collapsed": false
   },
   "outputs": [],
   "source": [
    "X, Y, metadata, numFeatures, numInstances, classLabel = loadData('sonar.arff')"
   ]
  },
  {
   "cell_type": "markdown",
   "metadata": {},
   "source": [
    "### Initialize weights and a helper function for sigmoid function"
   ]
  },
  {
   "cell_type": "code",
   "execution_count": 3,
   "metadata": {
    "collapsed": true
   },
   "outputs": [],
   "source": [
    "def sigmoidFunction(input):\n",
    "    return np.divide(1.0,(np.add(1.0,np.exp(-input))))\n",
    "\n",
    "def initializaWeights(numFeatures, numHidden):\n",
    "    #print numHidden\n",
    "    weightsHidden = []\n",
    "    weightsOutput = []\n",
    "    weightsBias = []\n",
    "    weightsHidden.append(np.random.uniform(-0.1, 0.1, (numFeatures, numHidden)))\n",
    "    weightsOutput.append(np.random.uniform(-0.1, 0.1, numHidden))\n",
    "    \n",
    "    oBias = random.uniform(-0.1,0.1)\n",
    "    hBias = random.uniform(-0.1,0.1)\n",
    "    weightsBias.append(oBias)\n",
    "    weightsBias.append(hBias)\n",
    "    \n",
    "    #print np.shape(weights[0])\n",
    "    return weightsHidden, weightsOutput, weightsBias"
   ]
  },
  {
   "cell_type": "code",
   "execution_count": 4,
   "metadata": {
    "collapsed": false
   },
   "outputs": [
    {
     "data": {
      "text/plain": [
       "(60, 60, 60, 2)"
      ]
     },
     "execution_count": 4,
     "metadata": {},
     "output_type": "execute_result"
    }
   ],
   "source": [
    "weightsHidden, weightsOutput, weightsBias = initializaWeights(numFeatures, numFeatures)\n",
    "# weightsHidden= np.array([[.15,.2],[.25,.3]]) \n",
    "# weightsOutput = np.array([[.4,.45]]) \n",
    "len(weightsHidden[0]), len(weightsOutput[0]), numFeatures, len(weightsBias)"
   ]
  },
  {
   "cell_type": "markdown",
   "metadata": {},
   "source": [
    "### train model"
   ]
  },
  {
   "cell_type": "code",
   "execution_count": 5,
   "metadata": {
    "collapsed": false
   },
   "outputs": [],
   "source": [
    "def trainModel(X, Y, weightsHidden, weightsOutput, weightsBias, foldInstanceIndices):\n",
    "    \n",
    "    randomIndices = np.random.permutation(foldInstanceIndices)\n",
    "    \n",
    "#     X_train = X[list(randomIndices),:]\n",
    "#     Y_train = Y[list(randomIndices)]\n",
    "    for i in randomIndices:\n",
    "        \n",
    "        ## forward pass\n",
    "        inputRow = np.array(X[i])\n",
    "        \n",
    "        ##hidden layer output calculation\n",
    "        hiddenLayer = []\n",
    "        for j in range(0,len(weightsHidden)):\n",
    "            sumWeightsHidden = np.dot(inputRow,weightsHidden[j]) + weightsBias[1]\n",
    "            hiddenOut = sigmoidFunction(sumWeightsHidden)\n",
    "            #print sumWeightsHidden, hiddenOut\n",
    "            hiddenLayer.append(hiddenOut)\n",
    "        #print '\\n'\n",
    "\n",
    "        ##output layer output calculation\n",
    "        sumWeightsOutput = np.dot(np.array(hiddenLayer),weightsOutput[0]) + weightsBias[0]\n",
    "        outputOut = sigmoidFunction(sumWeightsOutput)\n",
    "        #print sumWeightsOutput,outputOut\n",
    "\n",
    "        \n",
    "        error = 0.5 * math.pow((Y[i]-outputOut),2)\n",
    "        weightsHidden, weightsOutput, weightsBias = backProp(inputRow, Y[i], hiddenLayer, outputOut, weightsOutput, weightsHidden, weightsBias)\n",
    "        \n",
    "    return weightsHidden, weightsOutput, weightsBias, error"
   ]
  },
  {
   "cell_type": "code",
   "execution_count": 6,
   "metadata": {
    "collapsed": false
   },
   "outputs": [],
   "source": [
    "def backProp(inputRow, y, hiddenLayer, outputOut, weightsOutput, weightsHidden, weightsBias):\n",
    "    ## backpropagation\n",
    "    lrate = 0.1\n",
    "\n",
    "    #Output layer weight update\n",
    "    delta_o = outputOut*(1-outputOut)*(y-outputOut)\n",
    "    #print len(delta_o)\n",
    "    wtsOut_gradient = np.multiply((lrate*delta_o),hiddenLayer)\n",
    "    weightsOutput = np.add (weightsOutput, wtsOut_gradient)\n",
    "\n",
    "    #Hidden layer weight update\n",
    "    for j in range(0,len(weightsHidden)):\n",
    "        delta_h = hiddenLayer[j]* (1-hiddenLayer[j])*delta_o*weightsOutput[0][j]\n",
    "        #print len(delta_h)\n",
    "        wtsHid_gradient = np.multiply((lrate*delta_h),inputRow)\n",
    "        weightsHidden [j] =np.add (weightsHidden[j], wtsHid_gradient)\n",
    "        \n",
    "    #Bias weights update\n",
    "    weightsBias[0] = lrate*delta_o\n",
    "    weightsBias[1] = lrate*delta_h\n",
    "    \n",
    "    return weightsHidden, weightsOutput, weightsBias\n",
    "\n",
    "\n",
    "# for e in range(nEpochs):\n",
    "#     weightsHidden, weightsOutput, error = trainModel(X,Y,weightsHidden,weightsOutput)\n",
    "#     print e, error\n",
    "#     #print weightsHid, weightsOut"
   ]
  },
  {
   "cell_type": "markdown",
   "metadata": {},
   "source": [
    "### test model"
   ]
  },
  {
   "cell_type": "code",
   "execution_count": 7,
   "metadata": {
    "collapsed": true
   },
   "outputs": [],
   "source": [
    "def predictClass(inputRow,weightsHidden,weightsOutput, weightsBias):\n",
    "    hiddenLayer = []\n",
    "    for j in range(0,len(weightsHidden)):\n",
    "        sumWeightsHidden = np.dot(inputRow,weightsHidden[j]) + weightsBias[1]\n",
    "        hiddenOut = sigmoidFunction(sumWeightsHidden)\n",
    "        hiddenLayer.append(hiddenOut)\n",
    "\n",
    "    ##output layer output calculation\n",
    "    sumWeightsOutput = np.dot(np.array(hiddenLayer),weightsOutput[0]) + weightsBias[0]\n",
    "    outputOut = sigmoidFunction(sumWeightsOutput)\n",
    "    return outputOut\n",
    "\n",
    "def testModel(X,Y,weightsHidden,weightsOutput, weightsBias, foldInstanceIndices,fold):\n",
    "    \n",
    "    for idx in list(foldInstanceIndices):\n",
    "        \n",
    "        row = np.array(X[idx])\n",
    "        output = predictClass(row,weightsHidden,weightsOutput,weightsBias)\n",
    "        #print 'prediction:', output[0]\n",
    "        if output > 0.5:\n",
    "            predictedClass = classLabel[1][1]\n",
    "        else: \n",
    "            predictedClass = classLabel[1][0]\n",
    "        \n",
    "        if Y[idx]==1:\n",
    "            actualClass = classLabel[1][1]\n",
    "        else: \n",
    "            actualClass = classLabel[1][0]\n",
    "            \n",
    "        if NNOutput.has_key(idx):\n",
    "            print 'error'\n",
    "        else:\n",
    "            NNOutput[idx] = [fold+1, predictedClass, actualClass, output[0]]\n",
    "        "
   ]
  },
  {
   "cell_type": "markdown",
   "metadata": {},
   "source": [
    "### Stratifying dataset"
   ]
  },
  {
   "cell_type": "code",
   "execution_count": 30,
   "metadata": {
    "collapsed": false
   },
   "outputs": [],
   "source": [
    "def stratifiedSample(X, Y, nfolds):\n",
    "    numNegInstance = list(Y).count(0)\n",
    "    numPosInstance = list(Y).count(1)\n",
    "    numNegInstance, numPosInstance\n",
    "    negIndices = np.where(Y==0)[0]\n",
    "    posIndices = np.where(Y==1)[0]\n",
    "\n",
    "    posInstanceInFold = (numPosInstance/nfolds)\n",
    "    negInstanceInFold = (numNegInstance/nfolds)\n",
    "\n",
    "    foldInstanceIndices = []\n",
    "    i= j = 0\n",
    "    for f in range(0,nfolds):\n",
    "    #     print posIndices[i:(i+posInstanceInFold)]\n",
    "    #     print negIndices[j:(j+negInstanceInFold)]\n",
    "        foldInstanceIndices.append(np.append(posIndices[i:(i+posInstanceInFold)],negIndices[j:(j+negInstanceInFold)]))\n",
    "        #foldLabelIndices.append(np.append(posIndices[i:(i+posInstanceInFold)],negIndices[j:(j+negInstanceInFold)]))\n",
    "        i+=posInstanceInFold\n",
    "        j+=negInstanceInFold\n",
    "    #foldInstanceIndices\n",
    "    \n",
    "    return foldInstanceIndices, numPosInstance, numNegInstance"
   ]
  },
  {
   "cell_type": "code",
   "execution_count": 9,
   "metadata": {
    "collapsed": false
   },
   "outputs": [],
   "source": [
    "def crossValidation(X, Y, foldInstanceIndices, nfolds, nEpochs, weightsHidden, weightsOutput, weightsBias):\n",
    "    for f in range(0,nfolds):\n",
    "        testFold = f\n",
    "        for t in range(0,len(foldInstanceIndices)):\n",
    "            if t==testFold:\n",
    "                continue\n",
    "\n",
    "            for e in range(nEpochs):\n",
    "                weightsHidden, weightsOutput, weightsBias, error = trainModel(X,Y,weightsHidden,weightsOutput, weightsBias, foldInstanceIndices[t])\n",
    "                #print e, error\n",
    "\n",
    "        testModel(X,Y,weightsHidden,weightsOutput, weightsBias, foldInstanceIndices[testFold],testFold)\n"
   ]
  },
  {
   "cell_type": "code",
   "execution_count": 10,
   "metadata": {
    "collapsed": false
   },
   "outputs": [],
   "source": [
    "def printOutput(numInstances):\n",
    "\n",
    "    count =0\n",
    "    tp, tn, fp, fn = 0, 0, 0, 0\n",
    "    for i in range(0,numInstances):\n",
    "        if NNOutput.has_key(i):\n",
    "            count+=1\n",
    "            values = NNOutput.get(i)\n",
    "            print \"{} {} {} {}\".format(*values)\n",
    "\n",
    "            if values[1]=='Rock':\n",
    "                if values[2] == 'Rock':\n",
    "                    tn += 1\n",
    "                else:\n",
    "                    fp += 1\n",
    "            else:\n",
    "                if values[1] == 'Mine':\n",
    "                    tp += 1\n",
    "                else:\n",
    "                    fn += 1\n",
    "    accuracy = (float)(tp + tn) / (float)(tp + tn + fp + fn) \n",
    "    print accuracy\n",
    "            "
   ]
  },
  {
   "cell_type": "code",
   "execution_count": 31,
   "metadata": {
    "collapsed": false
   },
   "outputs": [],
   "source": [
    "foldInstanceIndices, p, n = stratifiedSample(X, Y, 10)\n",
    "# crossValidation(X, Y, foldInstanceIndices, nfolds, nEpochs, weightsHidden, weightsOutput, weightsBias)\n",
    "# accuracy = printOutput(numInstances)"
   ]
  },
  {
   "cell_type": "code",
   "execution_count": 38,
   "metadata": {
    "collapsed": false
   },
   "outputs": [
    {
     "name": "stderr",
     "output_type": "stream",
     "text": [
      "  File \"neuralnet\", line 1\n",
      "    python main.py $1 $2 $3 $4\n",
      "              ^\n",
      "SyntaxError: invalid syntax\n"
     ]
    }
   ],
   "source": [
    "!python main.py neuralnet sonar.arff 10 0.1 100 "
   ]
  },
  {
   "cell_type": "code",
   "execution_count": 16,
   "metadata": {
    "collapsed": false
   },
   "outputs": [
    {
     "data": {
      "text/plain": [
       "208"
      ]
     },
     "execution_count": 16,
     "metadata": {},
     "output_type": "execute_result"
    }
   ],
   "source": [
    "#ROCcurve()\n",
    "[0.8846153846153846,\n",
    " 0.9326923076923077,\n",
    " 0.8798076923076923,\n",
    " 0.9471153846153846]"
   ]
  },
  {
   "cell_type": "code",
   "execution_count": 32,
   "metadata": {
    "collapsed": false
   },
   "outputs": [
    {
     "data": {
      "text/plain": [
       "(111, 97)"
      ]
     },
     "execution_count": 32,
     "metadata": {},
     "output_type": "execute_result"
    }
   ],
   "source": [
    "p,n"
   ]
  },
  {
   "cell_type": "code",
   "execution_count": null,
   "metadata": {
    "collapsed": true
   },
   "outputs": [],
   "source": []
  }
 ],
 "metadata": {
  "anaconda-cloud": {},
  "kernelspec": {
   "display_name": "Python [Root]",
   "language": "python",
   "name": "Python [Root]"
  },
  "language_info": {
   "codemirror_mode": {
    "name": "ipython",
    "version": 2
   },
   "file_extension": ".py",
   "mimetype": "text/x-python",
   "name": "python",
   "nbconvert_exporter": "python",
   "pygments_lexer": "ipython2",
   "version": "2.7.12"
  }
 },
 "nbformat": 4,
 "nbformat_minor": 0
}
