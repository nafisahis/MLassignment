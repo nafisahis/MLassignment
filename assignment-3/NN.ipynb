{
 "cells": [
  {
   "cell_type": "markdown",
   "metadata": {},
   "source": [
    "## Load data"
   ]
  },
  {
   "cell_type": "code",
   "execution_count": 187,
   "metadata": {
    "collapsed": false
   },
   "outputs": [],
   "source": [
    "import numpy as np\n",
    "import scipy.io.arff as sparff\n",
    "\n",
    "def loadData(filename):\n",
    "    # reading the training data\n",
    "    data, attribute = sparff.loadarff(filename)\n",
    "    \n",
    "    #getting size of attributes and instances\n",
    "    numFeatures = len(attribute.names())-1\n",
    "    numInstances = len(data)\n",
    "    classLabel = attribute[attribute.names()[-1]]\n",
    "    \n",
    "    X, Y = [], []\n",
    "    for i in range(numInstances):\n",
    "        #print data[i][0]\n",
    "        # convert labels to 0-1 encoding\n",
    "        Y.append(classLabel[1].index(data[i][-1]))\n",
    "        \n",
    "        # create feature vector representation for each isntance\n",
    "        featureVector = []\n",
    "        for j in range(numFeatures):\n",
    "            featureVector.append(data[i][j])\n",
    "        X.append(featureVector)\n",
    "\n",
    "    # get the number of possible values of each feature\n",
    "#     numvals = []\n",
    "#     for n in range(len(attribute.names())):\n",
    "#         numvals.append(len(attribute[attribute.names()[n]][1]))\n",
    "    npX = np.array(X)\n",
    "    npY = np.array(Y)\n",
    "    return npX, npY, attribute, numFeatures, numInstances, classLabel"
   ]
  },
  {
   "cell_type": "code",
   "execution_count": 242,
   "metadata": {
    "collapsed": false
   },
   "outputs": [],
   "source": [
    "X, Y, metadata, numFeatures, numInstances, classLabel = loadData('sonar.arff')"
   ]
  },
  {
   "cell_type": "markdown",
   "metadata": {},
   "source": [
    "### Initialize weights and a helper function for sigmoid function"
   ]
  },
  {
   "cell_type": "code",
   "execution_count": 189,
   "metadata": {
    "collapsed": true
   },
   "outputs": [],
   "source": [
    "def sigmoidFunction(input):\n",
    "    return np.divide(1.0,(np.add(1.0,np.exp(-input))))\n",
    "\n",
    "def initializaWeights(numFeatures, numHidden):\n",
    "    #print numHidden\n",
    "    weightsHidden = []\n",
    "    weightsOutput = []\n",
    "    #weightsBias = []\n",
    "    weightsHidden.append(np.random.uniform(-0.1, 0.1, (numFeatures, numHidden)))\n",
    "    weightsOutput.append(np.random.uniform(-0.1, 0.1, numHidden))\n",
    "    weightsBias.append(np.random.uniform(-0.1, 0.1, numFeatures))\n",
    "    \n",
    "    #print np.shape(weights[0])\n",
    "    return weightsHidden, weightsOutput"
   ]
  },
  {
   "cell_type": "code",
   "execution_count": 190,
   "metadata": {
    "collapsed": false
   },
   "outputs": [
    {
     "data": {
      "text/plain": [
       "(60, 60, 60)"
      ]
     },
     "execution_count": 190,
     "metadata": {},
     "output_type": "execute_result"
    }
   ],
   "source": [
    "weightsHidden, weightsOutput = initializaWeights(numFeatures, numFeatures)\n",
    "# weightsHidden= np.array([[.15,.2],[.25,.3]]) \n",
    "# weightsOutput = np.array([[.4,.45]]) \n",
    "len(weightsHidden[0]), len(weightsOutput[0]), numFeatures"
   ]
  },
  {
   "cell_type": "markdown",
   "metadata": {},
   "source": [
    "### train model"
   ]
  },
  {
   "cell_type": "code",
   "execution_count": 218,
   "metadata": {
    "collapsed": false
   },
   "outputs": [],
   "source": [
    "import math \n",
    "nEpochs = 10\n",
    "\n",
    "def trainModel(X,Y,weightsHidden,weightsOutput):\n",
    "    \n",
    "    b1 = 0.35\n",
    "    b2 = 0.6\n",
    "    \n",
    "    orderedIdx = np.random.permutation(len(Y))\n",
    "    for i in orderedIdx:\n",
    "        ## forward pass\n",
    "        inputRow = np.array(X[i])\n",
    "        #print inputRow\n",
    "\n",
    "        ##hidden layer output calculation\n",
    "        hiddenLayer = []\n",
    "        for j in range(0,len(weightsHidden)):\n",
    "            sumWeightsHidden = np.dot(inputRow,weightsHidden[j]) + b1\n",
    "            hiddenOut = sigmoidFunction(sumWeightsHidden)\n",
    "            #print sumWeightsHidden, hiddenOut\n",
    "            hiddenLayer.append(hiddenOut)\n",
    "        #print '\\n'\n",
    "\n",
    "        ##output layer output calculation\n",
    "        sumWeightsOutput = np.dot(np.array(hiddenLayer),weightsOutput[0]) + b2\n",
    "        outputOut = sigmoidFunction(sumWeightsOutput)\n",
    "        #print sumWeightsOutput,outputOut\n",
    "\n",
    "        \n",
    "        error = 0.5 * math.pow((Y[i]-outputOut),2)\n",
    "        #print error\n",
    "        weightsHidden, weightsOutput = backProp(inputRow,hiddenLayer,outputOut,weightsOutput,weightsHidden)\n",
    "        \n",
    "    return weightsHidden, weightsOutput, error"
   ]
  },
  {
   "cell_type": "code",
   "execution_count": 219,
   "metadata": {
    "collapsed": false
   },
   "outputs": [],
   "source": [
    "def backProp(inputRow,hiddenLayer,outputOut,weightsOutput,weightsHidden):\n",
    "    ## backpropagation\n",
    "    lrate = 0.1\n",
    "\n",
    "    #Output layer weight update\n",
    "    delta_o = outputOut*(1-outputOut)*(Y[0]-outputOut)\n",
    "    #print len(delta_o)\n",
    "    wtsOut_gradient = np.multiply((lrate*delta_o),hiddenLayer)\n",
    "    wtsOut_gradient\n",
    "    weightsOutput = np.add (weightsOutput, wtsOut_gradient)\n",
    "\n",
    "    #hidden layer weight update\n",
    "    for j in range(0,len(weightsHidden)):\n",
    "        delta_h = hiddenLayer[j]* (1-hiddenLayer[j])*delta_o*weightsOutput[0][j]\n",
    "        #print len(delta_h)\n",
    "        wtsHid_gradient = np.multiply((lrate*delta_h),inputRow)\n",
    "        wtsHid_gradient\n",
    "        weightsHidden [j] =np.add (weightsHidden[j], wtsHid_gradient)\n",
    "    return weightsHidden, weightsOutput\n",
    "\n",
    "\n",
    "# for e in range(nEpochs):\n",
    "#     weightsHidden, weightsOutput, error = trainModel(X,Y,weightsHidden,weightsOutput)\n",
    "#     print e, error\n",
    "#     #print weightsHid, weightsOut"
   ]
  },
  {
   "cell_type": "markdown",
   "metadata": {},
   "source": [
    "### test model"
   ]
  },
  {
   "cell_type": "code",
   "execution_count": null,
   "metadata": {
    "collapsed": true
   },
   "outputs": [],
   "source": [
    "def testModel(X,Y,weightsHidden,weightsOutput):\n",
    "    "
   ]
  },
  {
   "cell_type": "markdown",
   "metadata": {},
   "source": [
    "### Stratifying dataset"
   ]
  },
  {
   "cell_type": "code",
   "execution_count": 270,
   "metadata": {
    "collapsed": false
   },
   "outputs": [
    {
     "data": {
      "text/plain": [
       "10"
      ]
     },
     "execution_count": 270,
     "metadata": {},
     "output_type": "execute_result"
    }
   ],
   "source": [
    "nfolds = 10\n",
    "numNegInstance = list(Y).count(0)\n",
    "numPosInstance = list(Y).count(1)\n",
    "numNegInstance, numPosInstance\n",
    "negIndices = np.where(Y==0)[0]\n",
    "posIndices = np.where(Y==1)[0]\n",
    "\n",
    "posInstanceInFold = (numPosInstance/nfolds)\n",
    "negInstanceInFold = (numNegInstance/nfolds)\n",
    "\n",
    "foldInstanceIndices = []\n",
    "#foldLabelIndices = []\n",
    "i= j = 0\n",
    "for f in range(0,nfolds):\n",
    "#     print posIndices[i:(i+posInstanceInFold)]\n",
    "#     print negIndices[j:(j+negInstanceInFold)]\n",
    "    foldInstanceIndices.append(np.append(posIndices[i:(i+posInstanceInFold)],negIndices[j:(j+negInstanceInFold)]))\n",
    "    #foldLabelIndices.append(np.append(posIndices[i:(i+posInstanceInFold)],negIndices[j:(j+negInstanceInFold)]))\n",
    "    i+=posInstanceInFold\n",
    "    j+=negInstanceInFold\n",
    "foldInstanceIndices"
   ]
  },
  {
   "cell_type": "code",
   "execution_count": null,
   "metadata": {
    "collapsed": true
   },
   "outputs": [],
   "source": [
    "prediction = []\n",
    "for f in range(0,nfolds):\n",
    "    tesFold = f\n",
    "    for t in range(0,len(foldInstanceIndices)):\n",
    "        if t==testFold:\n",
    "            continue\n",
    "            \n",
    "        X_train = X[list(foldInstanceIndices[t]),:]\n",
    "        Y_train = Y[list(foldInstanceIndices[t])]\n",
    "        for e in range(nEpochs):\n",
    "            weightsHidden, weightsOutput, error = trainModel(X_train,Y_train,weightsHidden,weightsOutput)\n",
    "            print e, error\n",
    "    X_test = X[list(foldInstanceIndices[testFold]),:]\n",
    "    Y_test = Y[list(foldInstanceIndices[testFold])]    \n",
    "    prediction.append(testModel(X_test,Y_test,weightsHidden,weightsOutput))"
   ]
  },
  {
   "cell_type": "code",
   "execution_count": 283,
   "metadata": {
    "collapsed": false
   },
   "outputs": [
    {
     "data": {
      "text/plain": [
       "array([[ 0.0491,  0.0279,  0.0592, ...,  0.014 ,  0.0332,  0.0439],\n",
       "       [ 0.1313,  0.2339,  0.3059, ...,  0.0127,  0.0178,  0.0231],\n",
       "       [ 0.0201,  0.0423,  0.0554, ...,  0.0224,  0.019 ,  0.0096],\n",
       "       ..., \n",
       "       [ 0.0317,  0.0956,  0.1321, ...,  0.0143,  0.0036,  0.0103],\n",
       "       [ 0.0519,  0.0548,  0.0842, ...,  0.0047,  0.0048,  0.0053],\n",
       "       [ 0.0223,  0.0375,  0.0484, ...,  0.0093,  0.0059,  0.0022]])"
      ]
     },
     "execution_count": 283,
     "metadata": {},
     "output_type": "execute_result"
    }
   ],
   "source": [
    "X[list(foldInstanceIndices[0]),:]"
   ]
  },
  {
   "cell_type": "code",
   "execution_count": 285,
   "metadata": {
    "collapsed": false,
    "scrolled": true
   },
   "outputs": [
    {
     "data": {
      "text/plain": [
       "array([1, 1, 1, 1, 1, 1, 0, 0, 0, 0, 0, 0, 0, 0, 0])"
      ]
     },
     "execution_count": 285,
     "metadata": {},
     "output_type": "execute_result"
    }
   ],
   "source": [
    "Y[[102, 103, 104, 105, 106, 107, 0, 1, 2, 3, 4, 5, 6, 7, 8]]"
   ]
  },
  {
   "cell_type": "code",
   "execution_count": null,
   "metadata": {
    "collapsed": true
   },
   "outputs": [],
   "source": []
  }
 ],
 "metadata": {
  "anaconda-cloud": {},
  "kernelspec": {
   "display_name": "Python [Root]",
   "language": "python",
   "name": "Python [Root]"
  },
  "language_info": {
   "codemirror_mode": {
    "name": "ipython",
    "version": 2
   },
   "file_extension": ".py",
   "mimetype": "text/x-python",
   "name": "python",
   "nbconvert_exporter": "python",
   "pygments_lexer": "ipython2",
   "version": "2.7.12"
  }
 },
 "nbformat": 4,
 "nbformat_minor": 0
}
